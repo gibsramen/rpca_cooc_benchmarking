{
 "cells": [
  {
   "cell_type": "code",
   "execution_count": 1,
   "metadata": {},
   "outputs": [],
   "source": [
    "library(SpiecEasi)\n",
    "\n",
    "source(\"../rpca_cooc_benchmarking/R/synthesize_count_data.R\")"
   ]
  },
  {
   "cell_type": "code",
   "execution_count": 2,
   "metadata": {},
   "outputs": [
    {
     "data": {
      "text/html": [
       "<table>\n",
       "<caption>A data.frame: 5 × 5</caption>\n",
       "<thead>\n",
       "\t<tr><th></th><th scope=col>X4479946</th><th scope=col>X547831</th><th scope=col>X4436710</th><th scope=col>X244331</th><th scope=col>X4479940</th></tr>\n",
       "\t<tr><th></th><th scope=col>&lt;dbl&gt;</th><th scope=col>&lt;dbl&gt;</th><th scope=col>&lt;dbl&gt;</th><th scope=col>&lt;dbl&gt;</th><th scope=col>&lt;dbl&gt;</th></tr>\n",
       "</thead>\n",
       "<tbody>\n",
       "\t<tr><th scope=row>103.LQ3</th><td>1</td><td>0</td><td>0</td><td>1</td><td>0</td></tr>\n",
       "\t<tr><th scope=row>103.PE4</th><td>1</td><td>0</td><td>0</td><td>0</td><td>0</td></tr>\n",
       "\t<tr><th scope=row>103.MT2</th><td>0</td><td>1</td><td>0</td><td>0</td><td>0</td></tr>\n",
       "\t<tr><th scope=row>103.SK1</th><td>0</td><td>1</td><td>0</td><td>0</td><td>0</td></tr>\n",
       "\t<tr><th scope=row>103.AR1</th><td>0</td><td>0</td><td>4</td><td>0</td><td>0</td></tr>\n",
       "</tbody>\n",
       "</table>\n"
      ],
      "text/latex": [
       "A data.frame: 5 × 5\n",
       "\\begin{tabular}{r|lllll}\n",
       "  & X4479946 & X547831 & X4436710 & X244331 & X4479940\\\\\n",
       "  & <dbl> & <dbl> & <dbl> & <dbl> & <dbl>\\\\\n",
       "\\hline\n",
       "\t103.LQ3 & 1 & 0 & 0 & 1 & 0\\\\\n",
       "\t103.PE4 & 1 & 0 & 0 & 0 & 0\\\\\n",
       "\t103.MT2 & 0 & 1 & 0 & 0 & 0\\\\\n",
       "\t103.SK1 & 0 & 1 & 0 & 0 & 0\\\\\n",
       "\t103.AR1 & 0 & 0 & 4 & 0 & 0\\\\\n",
       "\\end{tabular}\n"
      ],
      "text/markdown": [
       "\n",
       "A data.frame: 5 × 5\n",
       "\n",
       "| <!--/--> | X4479946 &lt;dbl&gt; | X547831 &lt;dbl&gt; | X4436710 &lt;dbl&gt; | X244331 &lt;dbl&gt; | X4479940 &lt;dbl&gt; |\n",
       "|---|---|---|---|---|---|\n",
       "| 103.LQ3 | 1 | 0 | 0 | 1 | 0 |\n",
       "| 103.PE4 | 1 | 0 | 0 | 0 | 0 |\n",
       "| 103.MT2 | 0 | 1 | 0 | 0 | 0 |\n",
       "| 103.SK1 | 0 | 1 | 0 | 0 | 0 |\n",
       "| 103.AR1 | 0 | 0 | 4 | 0 | 0 |\n",
       "\n"
      ],
      "text/plain": [
       "        X4479946 X547831 X4436710 X244331 X4479940\n",
       "103.LQ3 1        0       0        1       0       \n",
       "103.PE4 1        0       0        0       0       \n",
       "103.MT2 0        1       0        0       0       \n",
       "103.SK1 0        1       0        0       0       \n",
       "103.AR1 0        0       4        0       0       "
      ]
     },
     "metadata": {},
     "output_type": "display_data"
    }
   ],
   "source": [
    "data <- read.csv(\"../data/processed/qiita103/88_soils_filt.csv\", header=T, row.names=1)\n",
    "data[1:5, 1:5]"
   ]
  },
  {
   "cell_type": "code",
   "execution_count": 3,
   "metadata": {},
   "outputs": [],
   "source": [
    "sample_names <- rownames(data)\n",
    "feature_names <- colnames(data)\n",
    "data.norm <- normalize_data(as.matrix(data))"
   ]
  },
  {
   "cell_type": "code",
   "execution_count": 10,
   "metadata": {},
   "outputs": [],
   "source": [
    "d <- ncol(data.norm)\n",
    "e <- d"
   ]
  },
  {
   "cell_type": "code",
   "execution_count": 11,
   "metadata": {},
   "outputs": [
    {
     "data": {
      "text/plain": [
       "    user   system  elapsed \n",
       "4693.880   77.302 4773.417 "
      ]
     },
     "metadata": {},
     "output_type": "display_data"
    }
   ],
   "source": [
    "set.seed(42)\n",
    "graph <- make_graph(\"cluster\", d, e)\n",
    "\n",
    "ptm <- proc.time()\n",
    "synth_data <- synthesize_data(\n",
    "    data.norm,\n",
    "    graph,\n",
    "    distr=\"zinegbin\"\n",
    ")\n",
    "proc.time() - ptm"
   ]
  },
  {
   "cell_type": "code",
   "execution_count": 12,
   "metadata": {},
   "outputs": [
    {
     "data": {
      "text/html": [
       "<ol class=list-inline>\n",
       "\t<li>88</li>\n",
       "\t<li>9324</li>\n",
       "</ol>\n"
      ],
      "text/latex": [
       "\\begin{enumerate*}\n",
       "\\item 88\n",
       "\\item 9324\n",
       "\\end{enumerate*}\n"
      ],
      "text/markdown": [
       "1. 88\n",
       "2. 9324\n",
       "\n",
       "\n"
      ],
      "text/plain": [
       "[1]   88 9324"
      ]
     },
     "metadata": {},
     "output_type": "display_data"
    }
   ],
   "source": [
    "dim(synth_data)"
   ]
  },
  {
   "cell_type": "code",
   "execution_count": 13,
   "metadata": {},
   "outputs": [],
   "source": [
    "rownames(synth_data) <- rownames(data)\n",
    "colnames(synth_data) <- colnames(data)"
   ]
  },
  {
   "cell_type": "code",
   "execution_count": 14,
   "metadata": {},
   "outputs": [
    {
     "data": {
      "text/html": [
       "<table>\n",
       "<caption>A matrix: 5 × 5 of type dbl</caption>\n",
       "<thead>\n",
       "\t<tr><th></th><th scope=col>X4479946</th><th scope=col>X547831</th><th scope=col>X4436710</th><th scope=col>X244331</th><th scope=col>X4479940</th></tr>\n",
       "</thead>\n",
       "<tbody>\n",
       "\t<tr><th scope=row>103.LQ3</th><td>0</td><td>0</td><td>0</td><td>0</td><td>0</td></tr>\n",
       "\t<tr><th scope=row>103.PE4</th><td>0</td><td>0</td><td>0</td><td>0</td><td>0</td></tr>\n",
       "\t<tr><th scope=row>103.MT2</th><td>7</td><td>7</td><td>0</td><td>1</td><td>0</td></tr>\n",
       "\t<tr><th scope=row>103.SK1</th><td>0</td><td>0</td><td>0</td><td>0</td><td>0</td></tr>\n",
       "\t<tr><th scope=row>103.AR1</th><td>0</td><td>0</td><td>0</td><td>0</td><td>0</td></tr>\n",
       "</tbody>\n",
       "</table>\n"
      ],
      "text/latex": [
       "A matrix: 5 × 5 of type dbl\n",
       "\\begin{tabular}{r|lllll}\n",
       "  & X4479946 & X547831 & X4436710 & X244331 & X4479940\\\\\n",
       "\\hline\n",
       "\t103.LQ3 & 0 & 0 & 0 & 0 & 0\\\\\n",
       "\t103.PE4 & 0 & 0 & 0 & 0 & 0\\\\\n",
       "\t103.MT2 & 7 & 7 & 0 & 1 & 0\\\\\n",
       "\t103.SK1 & 0 & 0 & 0 & 0 & 0\\\\\n",
       "\t103.AR1 & 0 & 0 & 0 & 0 & 0\\\\\n",
       "\\end{tabular}\n"
      ],
      "text/markdown": [
       "\n",
       "A matrix: 5 × 5 of type dbl\n",
       "\n",
       "| <!--/--> | X4479946 | X547831 | X4436710 | X244331 | X4479940 |\n",
       "|---|---|---|---|---|---|\n",
       "| 103.LQ3 | 0 | 0 | 0 | 0 | 0 |\n",
       "| 103.PE4 | 0 | 0 | 0 | 0 | 0 |\n",
       "| 103.MT2 | 7 | 7 | 0 | 1 | 0 |\n",
       "| 103.SK1 | 0 | 0 | 0 | 0 | 0 |\n",
       "| 103.AR1 | 0 | 0 | 0 | 0 | 0 |\n",
       "\n"
      ],
      "text/plain": [
       "        X4479946 X547831 X4436710 X244331 X4479940\n",
       "103.LQ3 0        0       0        0       0       \n",
       "103.PE4 0        0       0        0       0       \n",
       "103.MT2 7        7       0        1       0       \n",
       "103.SK1 0        0       0        0       0       \n",
       "103.AR1 0        0       0        0       0       "
      ]
     },
     "metadata": {},
     "output_type": "display_data"
    }
   ],
   "source": [
    "synth_data[1:5, 1:5]"
   ]
  },
  {
   "cell_type": "code",
   "execution_count": 15,
   "metadata": {},
   "outputs": [],
   "source": [
    "write.csv(synth_data, \"../data/simulated/qiita103/88_soils_filt_sim1.csv\", row.names=T)"
   ]
  },
  {
   "cell_type": "code",
   "execution_count": null,
   "metadata": {},
   "outputs": [],
   "source": []
  }
 ],
 "metadata": {
  "kernelspec": {
   "display_name": "rpca_cooc R 3.5.1",
   "language": "R",
   "name": "rpca_cooc"
  },
  "language_info": {
   "codemirror_mode": "r",
   "file_extension": ".r",
   "mimetype": "text/x-r-source",
   "name": "R",
   "pygments_lexer": "r",
   "version": "3.5.1"
  }
 },
 "nbformat": 4,
 "nbformat_minor": 2
}
