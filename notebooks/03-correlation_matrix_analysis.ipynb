{
 "cells": [
  {
   "cell_type": "code",
   "execution_count": 1,
   "metadata": {},
   "outputs": [],
   "source": [
    "library(SpiecEasi)"
   ]
  },
  {
   "cell_type": "code",
   "execution_count": 2,
   "metadata": {},
   "outputs": [
    {
     "data": {
      "text/html": [
       "<table>\n",
       "<caption>A data.frame: 5 × 5</caption>\n",
       "<thead>\n",
       "\t<tr><th></th><th scope=col>X4479946</th><th scope=col>X547831</th><th scope=col>X4436710</th><th scope=col>X244331</th><th scope=col>X4479940</th></tr>\n",
       "\t<tr><th></th><th scope=col>&lt;int&gt;</th><th scope=col>&lt;int&gt;</th><th scope=col>&lt;int&gt;</th><th scope=col>&lt;int&gt;</th><th scope=col>&lt;int&gt;</th></tr>\n",
       "</thead>\n",
       "<tbody>\n",
       "\t<tr><th scope=row>103.LQ3</th><td>0</td><td>0</td><td>0</td><td>0</td><td>0</td></tr>\n",
       "\t<tr><th scope=row>103.PE4</th><td>0</td><td>0</td><td>0</td><td>0</td><td>0</td></tr>\n",
       "\t<tr><th scope=row>103.MT2</th><td>0</td><td>0</td><td>0</td><td>0</td><td>0</td></tr>\n",
       "\t<tr><th scope=row>103.SK1</th><td>2</td><td>0</td><td>3</td><td>0</td><td>0</td></tr>\n",
       "\t<tr><th scope=row>103.AR1</th><td>0</td><td>1</td><td>0</td><td>0</td><td>0</td></tr>\n",
       "</tbody>\n",
       "</table>\n"
      ],
      "text/latex": [
       "A data.frame: 5 × 5\n",
       "\\begin{tabular}{r|lllll}\n",
       "  & X4479946 & X547831 & X4436710 & X244331 & X4479940\\\\\n",
       "  & <int> & <int> & <int> & <int> & <int>\\\\\n",
       "\\hline\n",
       "\t103.LQ3 & 0 & 0 & 0 & 0 & 0\\\\\n",
       "\t103.PE4 & 0 & 0 & 0 & 0 & 0\\\\\n",
       "\t103.MT2 & 0 & 0 & 0 & 0 & 0\\\\\n",
       "\t103.SK1 & 2 & 0 & 3 & 0 & 0\\\\\n",
       "\t103.AR1 & 0 & 1 & 0 & 0 & 0\\\\\n",
       "\\end{tabular}\n"
      ],
      "text/markdown": [
       "\n",
       "A data.frame: 5 × 5\n",
       "\n",
       "| <!--/--> | X4479946 &lt;int&gt; | X547831 &lt;int&gt; | X4436710 &lt;int&gt; | X244331 &lt;int&gt; | X4479940 &lt;int&gt; |\n",
       "|---|---|---|---|---|---|\n",
       "| 103.LQ3 | 0 | 0 | 0 | 0 | 0 |\n",
       "| 103.PE4 | 0 | 0 | 0 | 0 | 0 |\n",
       "| 103.MT2 | 0 | 0 | 0 | 0 | 0 |\n",
       "| 103.SK1 | 2 | 0 | 3 | 0 | 0 |\n",
       "| 103.AR1 | 0 | 1 | 0 | 0 | 0 |\n",
       "\n"
      ],
      "text/plain": [
       "        X4479946 X547831 X4436710 X244331 X4479940\n",
       "103.LQ3 0        0       0        0       0       \n",
       "103.PE4 0        0       0        0       0       \n",
       "103.MT2 0        0       0        0       0       \n",
       "103.SK1 2        0       3        0       0       \n",
       "103.AR1 0        1       0        0       0       "
      ]
     },
     "metadata": {},
     "output_type": "display_data"
    }
   ],
   "source": [
    "df <- read.csv(\"../data/simulated/qiita103/88_soils_filt_sim1.csv\", row.names=1)\n",
    "df[1:5, 1:5]"
   ]
  },
  {
   "cell_type": "code",
   "execution_count": null,
   "metadata": {},
   "outputs": [
    {
     "name": "stderr",
     "output_type": "stream",
     "text": [
      "Applying data transformations...\n",
      "Selecting model with pulsar using stars...\n"
     ]
    }
   ],
   "source": [
    "se <- spiec.easi(as.matrix(df), method='mb', lambda.min.ratio=1e-2, nlambda=15)"
   ]
  },
  {
   "cell_type": "code",
   "execution_count": null,
   "metadata": {},
   "outputs": [],
   "source": []
  }
 ],
 "metadata": {
  "kernelspec": {
   "display_name": "R 3.6.1 - spieceasi",
   "language": "R",
   "name": "ir-spieceasi"
  },
  "language_info": {
   "codemirror_mode": "r",
   "file_extension": ".r",
   "mimetype": "text/x-r-source",
   "name": "R",
   "pygments_lexer": "r",
   "version": "3.6.1"
  }
 },
 "nbformat": 4,
 "nbformat_minor": 2
}
